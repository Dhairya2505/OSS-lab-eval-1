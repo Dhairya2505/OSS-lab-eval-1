{
 "cells": [
  {
   "cell_type": "code",
   "execution_count": 1,
   "id": "930ba5af",
   "metadata": {},
   "outputs": [],
   "source": [
    "#  id:[name,status]\n",
    "\n",
    "dict={}"
   ]
  },
  {
   "cell_type": "code",
   "execution_count": 2,
   "id": "2e208ae2",
   "metadata": {},
   "outputs": [],
   "source": [
    "def addTask(task_id,task_name,task_status):\n",
    "    dict[task_id] = [task_name,task_status]"
   ]
  },
  {
   "cell_type": "code",
   "execution_count": 3,
   "id": "2806f777",
   "metadata": {},
   "outputs": [],
   "source": [
    "def updateTaskName(task_id,task_name):\n",
    "    dict[task_id][0] = task_name"
   ]
  },
  {
   "cell_type": "code",
   "execution_count": 4,
   "id": "69006ed1",
   "metadata": {},
   "outputs": [],
   "source": [
    "def updateTaskStatus(task_id,task_status):\n",
    "    dict[task_id][1] = task_status"
   ]
  },
  {
   "cell_type": "code",
   "execution_count": 5,
   "id": "6996cb79",
   "metadata": {},
   "outputs": [],
   "source": [
    "def deleteTask(task_name):\n",
    "    for key in dict:\n",
    "        if (dict[key][0] == task_name):\n",
    "            dict.pop(key)"
   ]
  },
  {
   "cell_type": "code",
   "execution_count": 6,
   "id": "867f0904",
   "metadata": {},
   "outputs": [],
   "source": [
    "def display_tasks():\n",
    "    for key in dict:\n",
    "        print(key, ' -> ', dict[key][0])"
   ]
  },
  {
   "cell_type": "code",
   "execution_count": 7,
   "id": "f1562ab9",
   "metadata": {},
   "outputs": [],
   "source": [
    "def displayTask(name_id):\n",
    "    for key in dict:\n",
    "        if((key == name_id) | (dict[key][0] == name_id)):\n",
    "            print(key, ' -> ', dict[key])\n",
    "            return\n",
    "            \n",
    "    print('Task not found')"
   ]
  },
  {
   "cell_type": "code",
   "execution_count": 8,
   "id": "ebdb0782",
   "metadata": {},
   "outputs": [],
   "source": [
    "def search_task(task_char):\n",
    "    for key in dict:\n",
    "        if(dict[key][0][-1] == task_char):\n",
    "            print(key, ' -> ', dict[key])"
   ]
  },
  {
   "cell_type": "code",
   "execution_count": null,
   "id": "3dc0eb4c",
   "metadata": {},
   "outputs": [
    {
     "name": "stdout",
     "output_type": "stream",
     "text": [
      "----- Menu Driven Program -----\n",
      "1. Add Task\n",
      "2. Update Name\n",
      "3. Update Status\n",
      "4. Delete Task\n",
      "5. Display all tasks\n",
      "6. Search Task\n",
      "7. Display on the basis of last character\n",
      "Enter your choice : 1\n",
      "Enter id: 1\n",
      "Enter name: hw\n",
      "Enter status: pending\n",
      "----- Menu Driven Program -----\n",
      "1. Add Task\n",
      "2. Update Name\n",
      "3. Update Status\n",
      "4. Delete Task\n",
      "5. Display all tasks\n",
      "6. Search Task\n",
      "7. Display on the basis of last character\n",
      "Enter your choice : 5\n",
      "1  ->  hw\n",
      "----- Menu Driven Program -----\n",
      "1. Add Task\n",
      "2. Update Name\n",
      "3. Update Status\n",
      "4. Delete Task\n",
      "5. Display all tasks\n",
      "6. Search Task\n",
      "7. Display on the basis of last character\n",
      "Enter your choice : 2\n",
      "Enter id: 1\n",
      "Enter name: CW\n",
      "----- Menu Driven Program -----\n",
      "1. Add Task\n",
      "2. Update Name\n",
      "3. Update Status\n",
      "4. Delete Task\n",
      "5. Display all tasks\n",
      "6. Search Task\n",
      "7. Display on the basis of last character\n",
      "Enter your choice : 5\n",
      "1  ->  CW\n",
      "----- Menu Driven Program -----\n",
      "1. Add Task\n",
      "2. Update Name\n",
      "3. Update Status\n",
      "4. Delete Task\n",
      "5. Display all tasks\n",
      "6. Search Task\n",
      "7. Display on the basis of last character\n"
     ]
    }
   ],
   "source": [
    "while(True):\n",
    "    print('----- Menu Driven Program -----')\n",
    "    print('1. Add Task')\n",
    "    print('2. Update Name')\n",
    "    print('3. Update Status')\n",
    "    print('4. Delete Task')\n",
    "    print('5. Display all tasks')\n",
    "    print('6. Search Task')\n",
    "    print('7. Display on the basis of last character')\n",
    "\n",
    "    c = input('Enter your choice : ')\n",
    "\n",
    "    if(c=='1'):\n",
    "        task_id = input('Enter id: ')\n",
    "        task_name = input('Enter name: ')\n",
    "        task_status = input('Enter status: ')\n",
    "        addTask(task_id,task_name,task_status)\n",
    "    elif(c=='2'):\n",
    "        task_id = input('Enter id: ')\n",
    "        task_name = input('Enter name: ')\n",
    "        updateTaskName(task_id,task_name)\n",
    "    elif (c=='3'):\n",
    "        task_id = input('Enter id: ')\n",
    "        task_status = input('Enter status: ')\n",
    "        updateTaskStatus(task_id,task_status)\n",
    "    elif (c=='4'):\n",
    "        task_name = input('Enter name: ')\n",
    "        deleteTask(task_name)\n",
    "    elif(c=='5'):\n",
    "        display_tasks()\n",
    "    elif(c=='6'):\n",
    "        name_id = input('Enter name or id : ')\n",
    "        displayTask(name_id)\n",
    "    elif(c=='7'):\n",
    "        characater = input('Enter character : ')\n",
    "        search_task(characater)\n",
    "    else:\n",
    "        exit()"
   ]
  },
  {
   "cell_type": "code",
   "execution_count": null,
   "id": "31634cdf",
   "metadata": {},
   "outputs": [],
   "source": []
  }
 ],
 "metadata": {
  "kernelspec": {
   "display_name": "Python 3 (ipykernel)",
   "language": "python",
   "name": "python3"
  },
  "language_info": {
   "codemirror_mode": {
    "name": "ipython",
    "version": 3
   },
   "file_extension": ".py",
   "mimetype": "text/x-python",
   "name": "python",
   "nbconvert_exporter": "python",
   "pygments_lexer": "ipython3",
   "version": "3.11.5"
  }
 },
 "nbformat": 4,
 "nbformat_minor": 5
}
